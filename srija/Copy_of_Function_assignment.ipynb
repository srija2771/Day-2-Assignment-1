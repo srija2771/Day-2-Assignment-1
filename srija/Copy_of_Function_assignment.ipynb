{
  "nbformat": 4,
  "nbformat_minor": 0,
  "metadata": {
    "colab": {
      "provenance": [],
      "include_colab_link": true
    },
    "kernelspec": {
      "name": "python3",
      "display_name": "Python 3"
    },
    "language_info": {
      "name": "python"
    }
  },
  "cells": [
    {
      "cell_type": "markdown",
      "metadata": {
        "id": "view-in-github",
        "colab_type": "text"
      },
      "source": [
        "<a href=\"https://colab.research.google.com/github/srija2771/Day-2-Assignment-1/blob/main/srija/Copy_of_Function_assignment.ipynb\" target=\"_parent\"><img src=\"https://colab.research.google.com/assets/colab-badge.svg\" alt=\"Open In Colab\"/></a>"
      ]
    },
    {
      "cell_type": "markdown",
      "source": [
        "## Write a python program to crate a lambda funciotn that adds 15 to a given numebr\n"
      ],
      "metadata": {
        "id": "Cu2MTBpAH98v"
      }
    },
    {
      "cell_type": "code",
      "source": [
        "a=lambda x:x+15\n",
        "print(a(3))"
      ],
      "metadata": {
        "id": "QBZKf4hYIYh-",
        "colab": {
          "base_uri": "https://localhost:8080/"
        },
        "outputId": "2e1b3c34-c760-4d9d-a4fe-814993454d77"
      },
      "execution_count": 3,
      "outputs": [
        {
          "output_type": "stream",
          "name": "stdout",
          "text": [
            "18\n"
          ]
        }
      ]
    },
    {
      "cell_type": "code",
      "source": [],
      "metadata": {
        "id": "ERMc1QfnIYgd"
      },
      "execution_count": null,
      "outputs": []
    },
    {
      "cell_type": "markdown",
      "source": [
        "## Write a funciton to create a prime number generator"
      ],
      "metadata": {
        "id": "QvheE-ZfIJFc"
      }
    },
    {
      "cell_type": "code",
      "source": [
        "def prime(n):\n",
        "  for i in range(1,n+1):\n",
        "    c=0\n",
        "    for j in range(2,(i//2+1)):\n",
        "      if i%j==0:\n",
        "        c+=1\n",
        "        break\n",
        "    if c==0 and i!=1:\n",
        "      print(i,end=' ')\n",
        "prime(20)"
      ],
      "metadata": {
        "id": "z19r-AaMIIlC",
        "colab": {
          "base_uri": "https://localhost:8080/"
        },
        "outputId": "a0b95576-4558-456a-93a5-036342fdf0fe"
      },
      "execution_count": 2,
      "outputs": [
        {
          "output_type": "stream",
          "name": "stdout",
          "text": [
            "2 3 5 7 11 13 17 19 "
          ]
        }
      ]
    },
    {
      "cell_type": "markdown",
      "source": [
        "## Create a lambda funtion to filter out the even numebr from a given list"
      ],
      "metadata": {
        "id": "fgG1qcgaIZKL"
      }
    },
    {
      "cell_type": "code",
      "source": [
        "a=[1,2,3,4,5,6,7]\n",
        "b=list(filter(lambda x:x%2==0,a))\n",
        "print(b)"
      ],
      "metadata": {
        "id": "FWQS-SgjImHw",
        "colab": {
          "base_uri": "https://localhost:8080/"
        },
        "outputId": "3cca4512-be63-40e2-b369-63eefb8c4395"
      },
      "execution_count": 4,
      "outputs": [
        {
          "output_type": "stream",
          "name": "stdout",
          "text": [
            "[2, 4, 6]\n"
          ]
        }
      ]
    },
    {
      "cell_type": "markdown",
      "source": [
        "## Create a funciton for prime numebr generator"
      ],
      "metadata": {
        "id": "c1H7iXqDIuJI"
      }
    },
    {
      "cell_type": "code",
      "source": [
        "def prime():\n",
        "  n=int(input())\n",
        "  for i in range(1,n+1):\n",
        "    c=0\n",
        "    for j in range(2,(i//2+1)):\n",
        "      if i%j==0:\n",
        "        c+=1\n",
        "        break\n",
        "    if c==0 and i!=1:\n",
        "      print(i,end=' ')\n",
        "prime()"
      ],
      "metadata": {
        "id": "B6zt1ESKI2T4",
        "colab": {
          "base_uri": "https://localhost:8080/"
        },
        "outputId": "beef4413-ddcb-46a5-8987-438acd912e07"
      },
      "execution_count": 1,
      "outputs": [
        {
          "output_type": "stream",
          "name": "stdout",
          "text": [
            "10\n",
            "2 3 5 7 "
          ]
        }
      ]
    },
    {
      "cell_type": "markdown",
      "source": [
        "## create funciton for fibbonacci series generator"
      ],
      "metadata": {
        "id": "NMp0TAZaI18z"
      }
    },
    {
      "cell_type": "code",
      "source": [
        "def fibo(n):\n",
        "  a=0\n",
        "  b=1\n",
        "  print(a,end=' ')\n",
        "  print(b,end=' ')\n",
        "  for i in range(2,n):\n",
        "    c=a+b\n",
        "    print(c,end=' ')\n",
        "    a=b\n",
        "    b=c\n",
        "fibo(10)"
      ],
      "metadata": {
        "id": "dpa2ABE8JCnt",
        "colab": {
          "base_uri": "https://localhost:8080/"
        },
        "outputId": "36d66bd7-9f20-4441-9334-d1aa68072621"
      },
      "execution_count": 4,
      "outputs": [
        {
          "output_type": "stream",
          "name": "stdout",
          "text": [
            "0 1 1 2 3 5 8 13 21 34 "
          ]
        }
      ]
    }
  ]
}